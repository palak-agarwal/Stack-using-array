{
 "cells": [
  {
   "cell_type": "code",
   "execution_count": 1,
   "metadata": {},
   "outputs": [],
   "source": [
    "#stack\n",
    "class Stack:\n",
    "    top = -1\n",
    "    mylist = []\n",
    "    def __init__(self,sizeofstack):\n",
    "        self.n = sizeofstack\n",
    "        \n",
    "# Push an element into the stack\n",
    "    def Push(self,pushelement):\n",
    "        if self.top >= self.n-1:\n",
    "            print(\"Stack is full\")\n",
    "        else:\n",
    "            self.mylist.insert(self.top+1,pushelement)\n",
    "            self.top = self.top+1\n",
    "            print(self.mylist)\n",
    "            \n",
    "# Deletes the last inserted element from the stack\n",
    "    def Pop(self):\n",
    "        print(self.top)\n",
    "        if self.top == -1:\n",
    "            print(\"stack is empty\")\n",
    "        else:\n",
    "            d = self.mylist[self.top]\n",
    "            self.mylist.pop(self.top)\n",
    "            self.top = self.top-1\n",
    "            print(self.mylist)\n",
    "            return(d)\n",
    "        \n",
    "# checks if the stack is empty         \n",
    "    def empty(self):\n",
    "        if self.top == -1:\n",
    "            return(True)\n",
    "        else:\n",
    "            return(False)\n",
    "        \n",
    "# gives you the size of the stack/no of elements present in the stack\n",
    "    def size(self):\n",
    "        return(self.top)\n",
    "    \n",
    "# gives you the value of top \n",
    "    def topvalue(self):\n",
    "        return(self.top)"
   ]
  },
  {
   "cell_type": "code",
   "execution_count": 2,
   "metadata": {},
   "outputs": [
    {
     "name": "stdout",
     "output_type": "stream",
     "text": [
      "[80]\n",
      "[80, 70]\n",
      "[80, 70, 60]\n",
      "[80, 70, 60, 50]\n",
      "[80, 70, 60, 50, 40]\n",
      "Stack is full\n",
      "for pop\n",
      "4\n",
      "[80, 70, 60, 50]\n",
      "False\n",
      "3\n",
      "3\n"
     ]
    }
   ],
   "source": [
    "# runs the code\n",
    "x = Stack(5)\n",
    "x.Push(80)\n",
    "x.Push(70)\n",
    "x.Push(60)\n",
    "x.Push(50)\n",
    "x.Push(40)\n",
    "x.Push(30)\n",
    "print(\"for pop\")\n",
    "x.Pop()\n",
    "print(x.empty())\n",
    "print(x.size())\n",
    "print(x.topvalue())"
   ]
  },
  {
   "cell_type": "code",
   "execution_count": null,
   "metadata": {},
   "outputs": [],
   "source": []
  }
 ],
 "metadata": {
  "kernelspec": {
   "display_name": "Python 3",
   "language": "python",
   "name": "python3"
  },
  "language_info": {
   "codemirror_mode": {
    "name": "ipython",
    "version": 3
   },
   "file_extension": ".py",
   "mimetype": "text/x-python",
   "name": "python",
   "nbconvert_exporter": "python",
   "pygments_lexer": "ipython3",
   "version": "3.7.4"
  }
 },
 "nbformat": 4,
 "nbformat_minor": 2
}
